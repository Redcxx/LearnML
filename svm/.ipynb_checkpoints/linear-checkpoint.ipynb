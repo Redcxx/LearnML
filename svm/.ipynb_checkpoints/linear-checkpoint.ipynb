{
 "cells": [
  {
   "cell_type": "code",
   "execution_count": null,
   "metadata": {},
   "outputs": [],
   "source": [
    "import numpy as np\n",
    "import pandas as pd\n",
    "import matplotlib.pyplot as plt\n",
    "import sys"
   ]
  },
  {
   "cell_type": "code",
   "execution_count": null,
   "metadata": {},
   "outputs": [],
   "source": [
    "data = pd.read_csv('iris.csv')\n",
    "data.head()"
   ]
  },
  {
   "cell_type": "code",
   "execution_count": null,
   "metadata": {},
   "outputs": [],
   "source": [
    "feature1 = 'petal_length'\n",
    "feature2 = 'petal_width'\n",
    "data = data[[feature1, feature2, 'class']]\n",
    "\n",
    "classes = ['Iris-setosa', 'Iris-versicolor', 'Iris-virginica']\n",
    "for cls in classes:\n",
    "    curr_data = data[data['class'] == cls]\n",
    "    plt.scatter(curr_data[feature1], curr_data[feature2], label=cls)\n",
    "plt.legend()\n",
    "plt.show()\n",
    "\n",
    "train_data = data.sample(frac=0.8)\n",
    "val_data = data.drop(train_data.index)"
   ]
  },
  {
   "cell_type": "code",
   "execution_count": null,
   "metadata": {},
   "outputs": [],
   "source": [
    "def sigmoid(x):\n",
    "    return 1 / (1 + np.e ** -x)\n",
    "\n",
    "x = np.linspace(-10, 10, 100)\n",
    "y = sigmoid(x)\n",
    "\n",
    "plt.plot(x, y)\n",
    "plt.title('Sigmoid Function')\n",
    "plt.show()"
   ]
  },
  {
   "cell_type": "code",
   "execution_count": null,
   "metadata": {},
   "outputs": [],
   "source": [
    "X = np.array(train_data[[feature1, feature2]])\n",
    "m = len(X)\n",
    "X = np.c_[np.ones(m), X]\n",
    "Y = np.array(train_data['class'])\n",
    "num_iters = 100000\n",
    "lr = 0.001\n",
    "W = None\n",
    "\n",
    "for cls in classes:\n",
    "    w = np.random.rand(3)\n",
    "    y = np.array(Y == cls).astype(float)\n",
    "    for i in np.arange(num_iters):\n",
    "        diff = sigmoid(X @ w) - y\n",
    "        w[0] -= lr * np.sum(diff)\n",
    "        w[1] -= lr * np.sum(diff * X[:, 1])\n",
    "        w[2] -= lr * np.sum(diff * X[:, 2])\n",
    "        \n",
    "        if (i+1) % 20000 == 0:\n",
    "            r = sigmoid(X @ w)\n",
    "            cost = np.sum(-y * np.log(r) - (1-y) * np.log(1-r)) / 2 / m\n",
    "            print(f'{cls} | iteration={i+1} cost={cost:.5f}')\n",
    "    \n",
    "    W = w if W is None else np.vstack((W, w))\n",
    "\n",
    "\n",
    "def predict(X, W, Y):\n",
    "    preds = np.argmax(X @ W.T, axis=1)\n",
    "    correct = 0\n",
    "    total = len(preds)\n",
    "    for i, pred in enumerate(preds):\n",
    "        if pred == 0 and Y[i] == classes[0]:\n",
    "            correct +=1\n",
    "        elif pred == 1 and Y[i] == classes[1]:\n",
    "            correct +=1\n",
    "        elif pred == 2 and Y[i] == classes[2]:\n",
    "            correct += 1\n",
    "        else:\n",
    "            # incorrect\n",
    "            pass\n",
    "    return correct / total\n",
    "\n",
    "\n",
    "print(f'Train Accuracy={predict(X, W, Y):.3f}')\n",
    "val_X = np.array(val_data[[feature1, feature2]])\n",
    "val_X = np.c_[np.ones(len(val_X)), val_X]\n",
    "val_Y = np.array(val_data['class'])\n",
    "print(f'Val Accuracy={predict(val_X, W, val_Y):.3f}')"
   ]
  },
  {
   "cell_type": "code",
   "execution_count": null,
   "metadata": {},
   "outputs": [],
   "source": [
    "samples = 150\n",
    "X = np.linspace(data['petal_length'].min(), data['petal_length'].max(), samples)\n",
    "Y = np.linspace(data['petal_width'].min(), data['petal_width'].max(), samples)\n",
    "Z_setosa = np.zeros((samples, samples))\n",
    "Z_versicolor = np.zeros((samples, samples))\n",
    "Z_virginica = np.zeros((samples, samples))\n",
    "for xi, x in enumerate(X):\n",
    "    for yi, y in enumerate(Y):\n",
    "        d = np.array([1, x, y])\n",
    "        pred = np.argmax(d @ W.T)\n",
    "        if pred == 0:\n",
    "            Z_setosa[xi][yi] = 1\n",
    "        elif pred == 1:\n",
    "            Z_versicolor[xi][yi] = 1\n",
    "        elif pred == 2:\n",
    "            Z_virginica[xi][yi] = 1\n",
    "\n",
    "for i, cls in enumerate(classes):\n",
    "    curr_data = data[data['class'] == cls]\n",
    "    # plot the samples for this class\n",
    "    plt.scatter(curr_data['petal_length'], curr_data['petal_width'], label=cls)\n",
    "plt.contour(X, Y, Z_setosa)\n",
    "plt.contour(X, Y, Z_versicolor)\n",
    "plt.contour(X, Y, Z_virginica)\n",
    "plt.show()"
   ]
  }
 ],
 "metadata": {
  "kernelspec": {
   "display_name": "Python 3",
   "language": "python",
   "name": "python3"
  },
  "language_info": {
   "codemirror_mode": {
    "name": "ipython",
    "version": 3
   },
   "file_extension": ".py",
   "mimetype": "text/x-python",
   "name": "python",
   "nbconvert_exporter": "python",
   "pygments_lexer": "ipython3",
   "version": "3.7.4"
  }
 },
 "nbformat": 4,
 "nbformat_minor": 4
}
