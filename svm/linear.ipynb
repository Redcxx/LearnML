{
 "cells": [
  {
   "cell_type": "code",
   "execution_count": 1,
   "metadata": {},
   "outputs": [],
   "source": [
    "import numpy as np\n",
    "import pandas as pd\n",
    "import matplotlib.pyplot as plt\n",
    "import sys"
   ]
  },
  {
   "cell_type": "code",
   "execution_count": 2,
   "metadata": {},
   "outputs": [
    {
     "data": {
      "text/html": [
       "<div>\n",
       "<style scoped>\n",
       "    .dataframe tbody tr th:only-of-type {\n",
       "        vertical-align: middle;\n",
       "    }\n",
       "\n",
       "    .dataframe tbody tr th {\n",
       "        vertical-align: top;\n",
       "    }\n",
       "\n",
       "    .dataframe thead th {\n",
       "        text-align: right;\n",
       "    }\n",
       "</style>\n",
       "<table border=\"1\" class=\"dataframe\">\n",
       "  <thead>\n",
       "    <tr style=\"text-align: right;\">\n",
       "      <th></th>\n",
       "      <th>sepal_length</th>\n",
       "      <th>sepal_width</th>\n",
       "      <th>petal_length</th>\n",
       "      <th>petal_width</th>\n",
       "      <th>class</th>\n",
       "    </tr>\n",
       "  </thead>\n",
       "  <tbody>\n",
       "    <tr>\n",
       "      <th>0</th>\n",
       "      <td>5.1</td>\n",
       "      <td>3.5</td>\n",
       "      <td>1.4</td>\n",
       "      <td>0.2</td>\n",
       "      <td>Iris-setosa</td>\n",
       "    </tr>\n",
       "    <tr>\n",
       "      <th>1</th>\n",
       "      <td>4.9</td>\n",
       "      <td>3.0</td>\n",
       "      <td>1.4</td>\n",
       "      <td>0.2</td>\n",
       "      <td>Iris-setosa</td>\n",
       "    </tr>\n",
       "    <tr>\n",
       "      <th>2</th>\n",
       "      <td>4.7</td>\n",
       "      <td>3.2</td>\n",
       "      <td>1.3</td>\n",
       "      <td>0.2</td>\n",
       "      <td>Iris-setosa</td>\n",
       "    </tr>\n",
       "    <tr>\n",
       "      <th>3</th>\n",
       "      <td>4.6</td>\n",
       "      <td>3.1</td>\n",
       "      <td>1.5</td>\n",
       "      <td>0.2</td>\n",
       "      <td>Iris-setosa</td>\n",
       "    </tr>\n",
       "    <tr>\n",
       "      <th>4</th>\n",
       "      <td>5.0</td>\n",
       "      <td>3.6</td>\n",
       "      <td>1.4</td>\n",
       "      <td>0.2</td>\n",
       "      <td>Iris-setosa</td>\n",
       "    </tr>\n",
       "  </tbody>\n",
       "</table>\n",
       "</div>"
      ],
      "text/plain": [
       "   sepal_length  sepal_width  petal_length  petal_width        class\n",
       "0           5.1          3.5           1.4          0.2  Iris-setosa\n",
       "1           4.9          3.0           1.4          0.2  Iris-setosa\n",
       "2           4.7          3.2           1.3          0.2  Iris-setosa\n",
       "3           4.6          3.1           1.5          0.2  Iris-setosa\n",
       "4           5.0          3.6           1.4          0.2  Iris-setosa"
      ]
     },
     "execution_count": 2,
     "metadata": {},
     "output_type": "execute_result"
    }
   ],
   "source": [
    "data = pd.read_csv('iris.csv')\n",
    "data.head()"
   ]
  },
  {
   "cell_type": "code",
   "execution_count": 3,
   "metadata": {},
   "outputs": [
    {
     "data": {
      "image/png": "[encoded data removed]",
      "text/plain": [
       "<Figure size 432x288 with 1 Axes>"
      ]
     },
     "metadata": {
      "needs_background": "light"
     },
     "output_type": "display_data"
    }
   ],
   "source": [
    "feature1 = 'petal_length'\n",
    "feature2 = 'petal_width'\n",
    "data = data[[feature1, feature2, 'class']]\n",
    "\n",
    "classes = ['Iris-setosa', 'Iris-versicolor']\n",
    "for cls in classes:\n",
    "    curr_data = data[data['class'] == cls]\n",
    "    plt.scatter(curr_data[feature1], curr_data[feature2], label=cls)\n",
    "plt.legend()\n",
    "plt.show()\n",
    "\n",
    "data = data[data['class'].isin(classes)]\n",
    "\n",
    "train_data = data.sample(frac=0.8)\n",
    "val_data = data.drop(train_data.index)"
   ]
  },
  {
   "cell_type": "code",
   "execution_count": 4,
   "metadata": {},
   "outputs": [
    {
     "name": "stdout",
     "output_type": "stream",
     "text": [
      "iteration=500 cost=0.00754\n",
      "iteration=1000 cost=0.00371\n",
      "iteration=1500 cost=0.00204\n",
      "iteration=2000 cost=0.00161\n"
     ]
    }
   ],
   "source": [
    "X = np.array(train_data[[feature1, feature2]])\n",
    "num_samples, num_features = X.shape\n",
    "Y = np.where(train_data['class'] == classes[0], 1, -1)\n",
    "num_iters = 2000\n",
    "lr = 0.001\n",
    "B = np.random.rand(1)\n",
    "W = np.random.rand(2)\n",
    "lambda_param = 0.001\n",
    "\n",
    "for i in np.arange(num_iters):\n",
    "    for x, y in zip(X, Y):\n",
    "        y = np.array([y])\n",
    "        if (y * (x @ W - B)) >= 1:\n",
    "            W -= lr * (lambda_param * 2 * W)\n",
    "        else:\n",
    "            W -= lr * (lambda_param * 2 * W - (x[:, None] @ y))\n",
    "            B -= lr * y\n",
    "            \n",
    "            \n",
    "    if (i+1) % 500 == 0:\n",
    "        XW = X @ W\n",
    "        zeros = np.zeros(XW.shape)\n",
    "        cost = lambda_param * np.sqrt(W @ W.T) + np.sum(np.maximum(zeros, 1 - Y * (XW - B))) / num_samples\n",
    "        print(f'iteration={i+1} cost={cost:.5f}')"
   ]
  },
  {
   "cell_type": "code",
   "execution_count": 5,
   "metadata": {},
   "outputs": [
    {
     "name": "stdout",
     "output_type": "stream",
     "text": [
      "Train Accuracy=1.000\n"
     ]
    }
   ],
   "source": [
    "def acc(X, W, B, Y):\n",
    "    corr = np.sum(np.sign(X @ W - B) == Y)\n",
    "    return corr / len(X)\n",
    "\n",
    "print(f'Train Accuracy={acc(X, W, B, Y):.3f}')"
   ]
  },
  {
   "cell_type": "code",
   "execution_count": 6,
   "metadata": {},
   "outputs": [
    {
     "data": {
      "image/png": "[encoded data removed]",
      "text/plain": [
       "<Figure size 432x288 with 1 Axes>"
      ]
     },
     "metadata": {
      "needs_background": "light"
     },
     "output_type": "display_data"
    }
   ],
   "source": [
    "def visualize_svm(X, W, Y, B):\n",
    "    def get_hyperplane_value(x, w, b, offset):\n",
    "        return (-w[0] * x + b + offset) / w[1]\n",
    "\n",
    "    fig = plt.figure()\n",
    "    ax = fig.add_subplot(1,1,1)\n",
    "    plt.scatter(X[:,0], X[:,1], marker='o',c=Y)\n",
    "\n",
    "    x0_1 = np.amin(X[:,0])\n",
    "    x0_2 = np.amax(X[:,0])\n",
    "\n",
    "    x1_1 = get_hyperplane_value(x0_1, W, B, 0)\n",
    "    x1_2 = get_hyperplane_value(x0_2, W, B, 0)\n",
    "\n",
    "    x1_1_m = get_hyperplane_value(x0_1, W, B, -1)\n",
    "    x1_2_m = get_hyperplane_value(x0_2, W, B, -1)\n",
    "\n",
    "    x1_1_p = get_hyperplane_value(x0_1, W, B, 1)\n",
    "    x1_2_p = get_hyperplane_value(x0_2, W, B, 1)\n",
    "\n",
    "    ax.plot([x0_1, x0_2],[x1_1, x1_2], 'y--')\n",
    "    ax.plot([x0_1, x0_2],[x1_1_m, x1_2_m], 'k')\n",
    "    ax.plot([x0_1, x0_2],[x1_1_p, x1_2_p], 'k')\n",
    "\n",
    "    x1_min = np.amin(X[:,1])\n",
    "    x1_max = np.amax(X[:,1])\n",
    "    ax.set_ylim([x1_min-3,x1_max+3])\n",
    "\n",
    "    plt.show()\n",
    "\n",
    "X = np.array(train_data[[feature1, feature2]])\n",
    "Y = np.where(train_data['class'] == classes[0], 1, -1)\n",
    "visualize_svm(X, W, Y, B)"
   ]
  }
 ],
 "metadata": {
  "kernelspec": {
   "display_name": "Python 3",
   "language": "python",
   "name": "python3"
  },
  "language_info": {
   "codemirror_mode": {
    "name": "ipython",
    "version": 3
   },
   "file_extension": ".py",
   "mimetype": "text/x-python",
   "name": "python",
   "nbconvert_exporter": "python",
   "pygments_lexer": "ipython3",
   "version": "3.7.4"
  }
 },
 "nbformat": 4,
 "nbformat_minor": 4
}
