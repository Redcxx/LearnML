{
 "cells": [
  {
   "cell_type": "code",
   "execution_count": 1,
   "metadata": {},
   "outputs": [],
   "source": [
    "import numpy as np\n",
    "import matplotlib.pyplot as plt\n",
    "import pandas as pd"
   ]
  },
  {
   "cell_type": "code",
   "execution_count": 2,
   "metadata": {
    "scrolled": true
   },
   "outputs": [
    {
     "data": {
      "text/html": [
       "<div>\n",
       "<style scoped>\n",
       "    .dataframe tbody tr th:only-of-type {\n",
       "        vertical-align: middle;\n",
       "    }\n",
       "\n",
       "    .dataframe tbody tr th {\n",
       "        vertical-align: top;\n",
       "    }\n",
       "\n",
       "    .dataframe thead th {\n",
       "        text-align: right;\n",
       "    }\n",
       "</style>\n",
       "<table border=\"1\" class=\"dataframe\">\n",
       "  <thead>\n",
       "    <tr style=\"text-align: right;\">\n",
       "      <th></th>\n",
       "      <th>y</th>\n",
       "      <th>x</th>\n",
       "    </tr>\n",
       "  </thead>\n",
       "  <tbody>\n",
       "    <tr>\n",
       "      <th>0</th>\n",
       "      <td>97.58776</td>\n",
       "      <td>1.0</td>\n",
       "    </tr>\n",
       "    <tr>\n",
       "      <th>1</th>\n",
       "      <td>97.76344</td>\n",
       "      <td>2.0</td>\n",
       "    </tr>\n",
       "    <tr>\n",
       "      <th>2</th>\n",
       "      <td>96.56705</td>\n",
       "      <td>3.0</td>\n",
       "    </tr>\n",
       "    <tr>\n",
       "      <th>3</th>\n",
       "      <td>92.52037</td>\n",
       "      <td>4.0</td>\n",
       "    </tr>\n",
       "    <tr>\n",
       "      <th>4</th>\n",
       "      <td>91.15097</td>\n",
       "      <td>5.0</td>\n",
       "    </tr>\n",
       "  </tbody>\n",
       "</table>\n",
       "</div>"
      ],
      "text/plain": [
       "          y    x\n",
       "0  97.58776  1.0\n",
       "1  97.76344  2.0\n",
       "2  96.56705  3.0\n",
       "3  92.52037  4.0\n",
       "4  91.15097  5.0"
      ]
     },
     "execution_count": 2,
     "metadata": {},
     "output_type": "execute_result"
    }
   ],
   "source": [
    "data = pd.read_csv('non-linear.csv')\n",
    "data.head()"
   ]
  },
  {
   "cell_type": "code",
   "execution_count": 3,
   "metadata": {},
   "outputs": [],
   "source": [
    "train_data = data.sample(frac=0.8)\n",
    "test_data = data.drop(train_data.index)\n",
    "\n",
    "train_x = np.array(train_data['x'])\n",
    "train_y = np.array(train_data['y'])\n",
    "\n",
    "test_x = np.array(test_data['x'])\n",
    "test_y = np.array(test_data['y'])"
   ]
  },
  {
   "cell_type": "code",
   "execution_count": 16,
   "metadata": {},
   "outputs": [],
   "source": [
    "def generate_polynomial(data, degree):\n",
    "    poly_data = np.vstack(list(data ** d for d in range(1, 1+degree)))\n",
    "    return np.vstack((data, poly_data))\n",
    "\n",
    "def generate_sinusoid(data, degree):\n",
    "    sin_data = np.vstack(list(np.sin(data * d) for d in range(1, 1+degree)))\n",
    "    return np.vstack((data, sin_data))"
   ]
  },
  {
   "cell_type": "code",
   "execution_count": 22,
   "metadata": {
    "scrolled": true
   },
   "outputs": [
    {
     "name": "stdout",
     "output_type": "stream",
     "text": [
      "iteration=100000 cost=149.2787001723173\r"
     ]
    },
    {
     "data": {
      "image/png": "[encoded data removed]",
      "text/plain": [
       "<Figure size 432x288 with 1 Axes>"
      ]
     },
     "metadata": {
      "needs_background": "light"
     },
     "output_type": "display_data"
    }
   ],
   "source": [
    "Y = train_y\n",
    "# create new features from x\n",
    "poly_data = generate_polynomial(train_x, 15)\n",
    "sin_data = generate_sinusoid(train_x, 15)\n",
    "X = np.vstack((train_x, poly_data, sin_data))\n",
    "m = len(train_x)\n",
    "X = np.vstack((np.ones(m), X))\n",
    "X = X.T\n",
    "\n",
    "W = np.array([np.random.rand() for _ in range(X.shape[1])])\n",
    "\n",
    "# normalize\n",
    "for wi in range(len(W)):\n",
    "    X[:, wi] /= X[:, wi].max()\n",
    "\n",
    "# TODO: Result not nice\n",
    "\n",
    "num_iters = 100000\n",
    "lr = 0.1\n",
    "for i in np.arange(1, 1+num_iters):\n",
    "    diff = X @ W - Y\n",
    "    for wi in range(len(W)):\n",
    "        # update using derivative\n",
    "        k = diff if wi == 0 else diff * X[:, wi]\n",
    "        W[wi] -= lr * np.sum(k) / m\n",
    "    \n",
    "    if i % 10000 == 0:\n",
    "        cost = np.square(diff).sum() / 2 / m\n",
    "        print(f'iteration={i} cost={cost}', end='\\r')\n",
    "\n",
    "        \n",
    "y = X @ W\n",
    "plt.scatter(train_x, y, color='red', label='predication')\n",
    "plt.scatter(train_x, train_y, label='train data')\n",
    "plt.scatter(test_x, test_y, label='test data')\n",
    "plt.legend()\n",
    "plt.show()"
   ]
  },
  {
   "cell_type": "code",
   "execution_count": null,
   "metadata": {},
   "outputs": [],
   "source": []
  }
 ],
 "metadata": {
  "kernelspec": {
   "display_name": "Python 3",
   "language": "python",
   "name": "python3"
  },
  "language_info": {
   "codemirror_mode": {
    "name": "ipython",
    "version": 3
   },
   "file_extension": ".py",
   "mimetype": "text/x-python",
   "name": "python",
   "nbconvert_exporter": "python",
   "pygments_lexer": "ipython3",
   "version": "3.7.4"
  }
 },
 "nbformat": 4,
 "nbformat_minor": 4
}
