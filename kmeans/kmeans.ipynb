{
 "cells": [
  {
   "cell_type": "code",
   "execution_count": 1,
   "metadata": {},
   "outputs": [],
   "source": [
    "import numpy as np\n",
    "import pandas as pd\n",
    "import matplotlib.pyplot as plt"
   ]
  },
  {
   "cell_type": "code",
   "execution_count": 2,
   "metadata": {},
   "outputs": [
    {
     "data": {
      "text/html": [
       "<div>\n",
       "<style scoped>\n",
       "    .dataframe tbody tr th:only-of-type {\n",
       "        vertical-align: middle;\n",
       "    }\n",
       "\n",
       "    .dataframe tbody tr th {\n",
       "        vertical-align: top;\n",
       "    }\n",
       "\n",
       "    .dataframe thead th {\n",
       "        text-align: right;\n",
       "    }\n",
       "</style>\n",
       "<table border=\"1\" class=\"dataframe\">\n",
       "  <thead>\n",
       "    <tr style=\"text-align: right;\">\n",
       "      <th></th>\n",
       "      <th>sepal_length</th>\n",
       "      <th>sepal_width</th>\n",
       "      <th>petal_length</th>\n",
       "      <th>petal_width</th>\n",
       "      <th>class</th>\n",
       "    </tr>\n",
       "  </thead>\n",
       "  <tbody>\n",
       "    <tr>\n",
       "      <th>0</th>\n",
       "      <td>5.1</td>\n",
       "      <td>3.5</td>\n",
       "      <td>1.4</td>\n",
       "      <td>0.2</td>\n",
       "      <td>Iris-setosa</td>\n",
       "    </tr>\n",
       "    <tr>\n",
       "      <th>1</th>\n",
       "      <td>4.9</td>\n",
       "      <td>3.0</td>\n",
       "      <td>1.4</td>\n",
       "      <td>0.2</td>\n",
       "      <td>Iris-setosa</td>\n",
       "    </tr>\n",
       "    <tr>\n",
       "      <th>2</th>\n",
       "      <td>4.7</td>\n",
       "      <td>3.2</td>\n",
       "      <td>1.3</td>\n",
       "      <td>0.2</td>\n",
       "      <td>Iris-setosa</td>\n",
       "    </tr>\n",
       "    <tr>\n",
       "      <th>3</th>\n",
       "      <td>4.6</td>\n",
       "      <td>3.1</td>\n",
       "      <td>1.5</td>\n",
       "      <td>0.2</td>\n",
       "      <td>Iris-setosa</td>\n",
       "    </tr>\n",
       "    <tr>\n",
       "      <th>4</th>\n",
       "      <td>5.0</td>\n",
       "      <td>3.6</td>\n",
       "      <td>1.4</td>\n",
       "      <td>0.2</td>\n",
       "      <td>Iris-setosa</td>\n",
       "    </tr>\n",
       "  </tbody>\n",
       "</table>\n",
       "</div>"
      ],
      "text/plain": [
       "   sepal_length  sepal_width  petal_length  petal_width        class\n",
       "0           5.1          3.5           1.4          0.2  Iris-setosa\n",
       "1           4.9          3.0           1.4          0.2  Iris-setosa\n",
       "2           4.7          3.2           1.3          0.2  Iris-setosa\n",
       "3           4.6          3.1           1.5          0.2  Iris-setosa\n",
       "4           5.0          3.6           1.4          0.2  Iris-setosa"
      ]
     },
     "execution_count": 2,
     "metadata": {},
     "output_type": "execute_result"
    }
   ],
   "source": [
    "data = pd.read_csv('iris.csv')\n",
    "data.head()"
   ]
  },
  {
   "cell_type": "code",
   "execution_count": 3,
   "metadata": {},
   "outputs": [
    {
     "data": {
      "image/png": "[encoded data removed]",
      "text/plain": [
       "<Figure size 432x288 with 1 Axes>"
      ]
     },
     "metadata": {
      "needs_background": "light"
     },
     "output_type": "display_data"
    }
   ],
   "source": [
    "features = ['petal_length', 'petal_width']\n",
    "classes = data['class'].unique()\n",
    "data = data[[*features, 'class']]\n",
    "\n",
    "for clazz in classes:\n",
    "    curr_data = data[data['class'] == clazz]\n",
    "    plt.scatter(curr_data[features[0]], curr_data[features[1]], label=clazz)\n",
    "plt.xlabel(features[0])\n",
    "plt.ylabel(features[1])\n",
    "plt.legend()\n",
    "plt.show()"
   ]
  },
  {
   "cell_type": "code",
   "execution_count": 4,
   "metadata": {},
   "outputs": [
    {
     "name": "stdout",
     "output_type": "stream",
     "text": [
      "iteration=1/20\r",
      "iteration=2/20\r",
      "iteration=3/20\r",
      "iteration=4/20\r",
      "iteration=5/20\r\n",
      "No change in center, breaking early\n"
     ]
    },
    {
     "data": {
      "image/png": "[encoded data removed]",
      "text/plain": [
       "<Figure size 432x288 with 1 Axes>"
      ]
     },
     "metadata": {
      "needs_background": "light"
     },
     "output_type": "display_data"
    }
   ],
   "source": [
    "num_clusters = len(classes)\n",
    "num_iters = 20\n",
    "\n",
    "data_x = data[features].values\n",
    "\n",
    "# randomly initialize center\n",
    "# centers = []\n",
    "# for i in range(num_clusters):\n",
    "#     centers.append(\n",
    "#         tuple(np.random.uniform(data_x[i].min(), \n",
    "#                                 data_x[i].max(), \n",
    "#                                 size=(1)).item() \n",
    "#               for i in range(len(features)))\n",
    "#     )\n",
    "centers = np.random.permutation(data_x)[:num_clusters]\n",
    "\n",
    "\n",
    "# return data in datas assigned to each center in centers\n",
    "def assign_clusters(centers, datas):\n",
    "    clusters = [[] for _ in range(len(centers))]\n",
    "    for data in datas:\n",
    "        center_dists = []\n",
    "        for center in centers:\n",
    "            sqs = np.fromiter([np.square(d - c) for d, c in zip(data, center)], dtype='float')\n",
    "            center_dists.append(np.sum(sqs))  \n",
    "        clusters[np.argmin(center_dists)].append(data)\n",
    "    return clusters\n",
    "\n",
    "# training loop\n",
    "for i in np.arange(1, num_iters+1):\n",
    "    print(f'iteration={i}/{num_iters}', end='\\r')\n",
    "    clusters = assign_clusters(centers, data_x)\n",
    "    new_centers = []\n",
    "    for idx, cluster in enumerate(clusters):\n",
    "        if len(cluster) == 0:\n",
    "            # no data point assigned to this cluster\n",
    "            # use the old center\n",
    "            new_centers.append(centers[idx])\n",
    "        else:\n",
    "            new_centers.append(np.sum(cluster, axis=0) / len(cluster))\n",
    "    if np.array_equal(new_centers, centers):  # no change in center, can break early\n",
    "        print('\\nNo change in center, breaking early')\n",
    "        break\n",
    "    centers = new_centers\n",
    "\n",
    "# plot cluster, center and trace\n",
    "clusters = assign_clusters(centers, data_x)\n",
    "for i, cluster, center in zip(range(len(clusters)), clusters, centers):\n",
    "    cluster = np.array(cluster)\n",
    "    plt.plot([center[0]], [center[1]], marker='*', color='k', markersize=10)\n",
    "\n",
    "    if len(cluster != 0):\n",
    "        plt.scatter(cluster[:, 0], cluster[:, 1], label=f'cluster {i+1}')\n",
    "\n",
    "plt.xlabel(features[0])\n",
    "plt.ylabel(features[1])    \n",
    "plt.legend()\n",
    "plt.show()"
   ]
  }
 ],
 "metadata": {
  "kernelspec": {
   "display_name": "Python 3",
   "language": "python",
   "name": "python3"
  },
  "language_info": {
   "codemirror_mode": {
    "name": "ipython",
    "version": 3
   },
   "file_extension": ".py",
   "mimetype": "text/x-python",
   "name": "python",
   "nbconvert_exporter": "python",
   "pygments_lexer": "ipython3",
   "version": "3.7.4"
  }
 },
 "nbformat": 4,
 "nbformat_minor": 4
}
