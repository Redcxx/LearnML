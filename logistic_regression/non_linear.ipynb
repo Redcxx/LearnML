{
 "cells": [
  {
   "cell_type": "code",
   "execution_count": 1,
   "metadata": {},
   "outputs": [],
   "source": [
    "import numpy as np\n",
    "import matplotlib.pyplot as plt\n",
    "import pandas as pd"
   ]
  },
  {
   "cell_type": "code",
   "execution_count": 2,
   "metadata": {},
   "outputs": [
    {
     "data": {
      "text/html": [
       "<div>\n",
       "<style scoped>\n",
       "    .dataframe tbody tr th:only-of-type {\n",
       "        vertical-align: middle;\n",
       "    }\n",
       "\n",
       "    .dataframe tbody tr th {\n",
       "        vertical-align: top;\n",
       "    }\n",
       "\n",
       "    .dataframe thead th {\n",
       "        text-align: right;\n",
       "    }\n",
       "</style>\n",
       "<table border=\"1\" class=\"dataframe\">\n",
       "  <thead>\n",
       "    <tr style=\"text-align: right;\">\n",
       "      <th></th>\n",
       "      <th>param_1</th>\n",
       "      <th>param_2</th>\n",
       "      <th>validity</th>\n",
       "    </tr>\n",
       "  </thead>\n",
       "  <tbody>\n",
       "    <tr>\n",
       "      <th>0</th>\n",
       "      <td>0.051267</td>\n",
       "      <td>0.69956</td>\n",
       "      <td>1</td>\n",
       "    </tr>\n",
       "    <tr>\n",
       "      <th>1</th>\n",
       "      <td>-0.092742</td>\n",
       "      <td>0.68494</td>\n",
       "      <td>1</td>\n",
       "    </tr>\n",
       "    <tr>\n",
       "      <th>2</th>\n",
       "      <td>-0.213710</td>\n",
       "      <td>0.69225</td>\n",
       "      <td>1</td>\n",
       "    </tr>\n",
       "    <tr>\n",
       "      <th>3</th>\n",
       "      <td>-0.375000</td>\n",
       "      <td>0.50219</td>\n",
       "      <td>1</td>\n",
       "    </tr>\n",
       "    <tr>\n",
       "      <th>4</th>\n",
       "      <td>-0.513250</td>\n",
       "      <td>0.46564</td>\n",
       "      <td>1</td>\n",
       "    </tr>\n",
       "  </tbody>\n",
       "</table>\n",
       "</div>"
      ],
      "text/plain": [
       "    param_1  param_2  validity\n",
       "0  0.051267  0.69956         1\n",
       "1 -0.092742  0.68494         1\n",
       "2 -0.213710  0.69225         1\n",
       "3 -0.375000  0.50219         1\n",
       "4 -0.513250  0.46564         1"
      ]
     },
     "execution_count": 2,
     "metadata": {},
     "output_type": "execute_result"
    }
   ],
   "source": [
    "data = pd.read_csv('non_linear.csv')\n",
    "data.head()"
   ]
  },
  {
   "cell_type": "code",
   "execution_count": 3,
   "metadata": {},
   "outputs": [
    {
     "data": {
      "image/png": "[encoded data removed]",
      "text/plain": [
       "<Figure size 432x288 with 1 Axes>"
      ]
     },
     "metadata": {
      "needs_background": "light"
     },
     "output_type": "display_data"
    }
   ],
   "source": [
    "plt.scatter(data[data['validity'] == 1]['param_1'], data[data['validity'] == 1]['param_2'], label='valid')\n",
    "plt.scatter(data[data['validity'] == 0]['param_1'], data[data['validity'] == 0]['param_2'], label='invalid')\n",
    "plt.show()"
   ]
  },
  {
   "cell_type": "code",
   "execution_count": 4,
   "metadata": {},
   "outputs": [],
   "source": [
    "train_data = data.sample(frac=0.8)\n",
    "val_data = data.drop(train_data.index)\n",
    "\n",
    "train_x = np.array(train_data[['param_1', 'param_2']])\n",
    "train_y = np.array(train_data['validity'])\n",
    "\n",
    "val_x = np.array(val_data[['param_1', 'param_2']])\n",
    "val_y = np.array(val_data['validity'])"
   ]
  },
  {
   "cell_type": "code",
   "execution_count": 5,
   "metadata": {},
   "outputs": [
    {
     "data": {
      "image/png": "[encoded data removed]",
      "text/plain": [
       "<Figure size 432x288 with 1 Axes>"
      ]
     },
     "metadata": {
      "needs_background": "light"
     },
     "output_type": "display_data"
    }
   ],
   "source": [
    "def generate_poly(data, degree):\n",
    "    poly_data = None\n",
    "    for d in range(1, 1+degree):\n",
    "        poly_data = data ** d if poly_data is None else np.vstack((poly_data, data ** d))\n",
    "    return poly_data.T\n",
    "\n",
    "def sigmoid(x):\n",
    "    return 1 / (1 + np.e ** -x)\n",
    "\n",
    "x = np.linspace(-10, 10, 50)\n",
    "y = sigmoid(x)\n",
    "plt.plot(x, y)\n",
    "plt.title('Sigmoid Function')\n",
    "plt.show()"
   ]
  },
  {
   "cell_type": "code",
   "execution_count": 26,
   "metadata": {
    "scrolled": true
   },
   "outputs": [
    {
     "name": "stdout",
     "output_type": "stream",
     "text": [
      "label=0 iteration=2000 cost=0.20872\n",
      "label=0 iteration=4000 cost=0.19784\n",
      "label=0 iteration=6000 cost=0.19495\n",
      "label=0 iteration=8000 cost=0.19389\n",
      "label=0 iteration=10000 cost=0.19342\n",
      "label=1 iteration=2000 cost=0.21026\n",
      "label=1 iteration=4000 cost=0.19819\n",
      "label=1 iteration=6000 cost=0.19511\n",
      "label=1 iteration=8000 cost=0.19401\n",
      "label=1 iteration=10000 cost=0.19353\n",
      "Train Accuracy = 0.8191\n",
      "Val Accuracy = 0.6250\n"
     ]
    }
   ],
   "source": [
    "m = len(train_x)\n",
    "poly_degree = 4\n",
    "X = np.c_[np.ones(m), train_x, generate_poly(train_x[:, 0], poly_degree), generate_poly(train_x[:, 1], poly_degree)]\n",
    "Y = train_y\n",
    "W = None\n",
    "\n",
    "num_iters = 10000\n",
    "lr = 0.001\n",
    "\n",
    "for label in [0, 1]:\n",
    "    w = np.random.rand(X.shape[1])\n",
    "    y = np.array(Y == label).astype(float)\n",
    "    for i in np.arange(num_iters):\n",
    "        diff = sigmoid(X @ w) - y\n",
    "        for wi in np.arange(len(w)):\n",
    "            t = diff if wi == 0 else diff * X[:, wi]\n",
    "            w[wi] -= lr * np.sum(t)\n",
    "        \n",
    "        if (i + 1) % 2000  == 0:\n",
    "            t = sigmoid(X @ w)\n",
    "            cost = np.sum(-y * np.log(t) - (1-y) * (np.log(1-t))) / 2 / m\n",
    "            print(f'label={label} iteration={i+1} cost={cost:.5f}')\n",
    "    W = w if W is None else np.vstack((W, w))\n",
    "\n",
    "pred = np.argmax(X @ W.T, axis=1)\n",
    "train_acc = np.sum(pred == Y) / len(Y)\n",
    "print(f'Train Accuracy = {train_acc:.4f}')\n",
    "\n",
    "\n",
    "val_X = np.c_[np.ones(len(val_x)), \n",
    "              val_x, \n",
    "              generate_poly(val_x[:, 0], poly_degree), \n",
    "              generate_poly(val_x[:, 1], poly_degree)\n",
    "             ]\n",
    "pred = np.argmax(val_X @ W.T, axis=1)\n",
    "val_acc = np.sum(pred == val_y) / len(val_y)\n",
    "print(f'Val Accuracy = {val_acc:.4f}')"
   ]
  },
  {
   "cell_type": "code",
   "execution_count": 27,
   "metadata": {},
   "outputs": [
    {
     "data": {
      "image/png": "[encoded data removed]",
      "text/plain": [
       "<Figure size 432x288 with 1 Axes>"
      ]
     },
     "metadata": {
      "needs_background": "light"
     },
     "output_type": "display_data"
    }
   ],
   "source": [
    "samples = 150\n",
    "\n",
    "X = np.linspace(data['param_1'].min(), data['param_1'].max(), samples)\n",
    "Y = np.linspace(data['param_2'].min(), data['param_2'].max(), samples)\n",
    "Z = np.zeros((samples, samples))\n",
    "for xi, x in enumerate(X):\n",
    "    for yi, y in enumerate(Y):\n",
    "        d = np.array([[x, y]])\n",
    "        d = np.c_[np.ones(len(d)), \n",
    "                  d, \n",
    "                  generate_poly(d[:, 0], poly_degree), \n",
    "                  generate_poly(d[:, 1], poly_degree)\n",
    "                 ]\n",
    "        pred = np.argmax(d @ W.T, axis=1)\n",
    "        Z[xi][yi] = pred\n",
    "\n",
    "plt.scatter(data[data['validity'] == 1]['param_1'], data[data['validity'] == 1]['param_2'], label='valid')\n",
    "plt.scatter(data[data['validity'] == 0]['param_1'], data[data['validity'] == 0]['param_2'], label='invalid')\n",
    "plt.contour(X, Y, Z)\n",
    "plt.show()"
   ]
  }
 ],
 "metadata": {
  "kernelspec": {
   "display_name": "Python 3",
   "language": "python",
   "name": "python3"
  },
  "language_info": {
   "codemirror_mode": {
    "name": "ipython",
    "version": 3
   },
   "file_extension": ".py",
   "mimetype": "text/x-python",
   "name": "python",
   "nbconvert_exporter": "python",
   "pygments_lexer": "ipython3",
   "version": "3.7.4"
  }
 },
 "nbformat": 4,
 "nbformat_minor": 4
}
