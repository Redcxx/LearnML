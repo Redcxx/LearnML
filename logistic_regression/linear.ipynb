{
 "cells": [
  {
   "cell_type": "code",
   "execution_count": 1,
   "metadata": {},
   "outputs": [],
   "source": [
    "import numpy as np\n",
    "import pandas as pd\n",
    "import matplotlib.pyplot as plt\n",
    "import sys"
   ]
  },
  {
   "cell_type": "code",
   "execution_count": 2,
   "metadata": {},
   "outputs": [
    {
     "data": {
      "text/html": [
       "<div>\n",
       "<style scoped>\n",
       "    .dataframe tbody tr th:only-of-type {\n",
       "        vertical-align: middle;\n",
       "    }\n",
       "\n",
       "    .dataframe tbody tr th {\n",
       "        vertical-align: top;\n",
       "    }\n",
       "\n",
       "    .dataframe thead th {\n",
       "        text-align: right;\n",
       "    }\n",
       "</style>\n",
       "<table border=\"1\" class=\"dataframe\">\n",
       "  <thead>\n",
       "    <tr style=\"text-align: right;\">\n",
       "      <th></th>\n",
       "      <th>sepal_length</th>\n",
       "      <th>sepal_width</th>\n",
       "      <th>petal_length</th>\n",
       "      <th>petal_width</th>\n",
       "      <th>class</th>\n",
       "    </tr>\n",
       "  </thead>\n",
       "  <tbody>\n",
       "    <tr>\n",
       "      <th>0</th>\n",
       "      <td>5.1</td>\n",
       "      <td>3.5</td>\n",
       "      <td>1.4</td>\n",
       "      <td>0.2</td>\n",
       "      <td>Iris-setosa</td>\n",
       "    </tr>\n",
       "    <tr>\n",
       "      <th>1</th>\n",
       "      <td>4.9</td>\n",
       "      <td>3.0</td>\n",
       "      <td>1.4</td>\n",
       "      <td>0.2</td>\n",
       "      <td>Iris-setosa</td>\n",
       "    </tr>\n",
       "    <tr>\n",
       "      <th>2</th>\n",
       "      <td>4.7</td>\n",
       "      <td>3.2</td>\n",
       "      <td>1.3</td>\n",
       "      <td>0.2</td>\n",
       "      <td>Iris-setosa</td>\n",
       "    </tr>\n",
       "    <tr>\n",
       "      <th>3</th>\n",
       "      <td>4.6</td>\n",
       "      <td>3.1</td>\n",
       "      <td>1.5</td>\n",
       "      <td>0.2</td>\n",
       "      <td>Iris-setosa</td>\n",
       "    </tr>\n",
       "    <tr>\n",
       "      <th>4</th>\n",
       "      <td>5.0</td>\n",
       "      <td>3.6</td>\n",
       "      <td>1.4</td>\n",
       "      <td>0.2</td>\n",
       "      <td>Iris-setosa</td>\n",
       "    </tr>\n",
       "  </tbody>\n",
       "</table>\n",
       "</div>"
      ],
      "text/plain": [
       "   sepal_length  sepal_width  petal_length  petal_width        class\n",
       "0           5.1          3.5           1.4          0.2  Iris-setosa\n",
       "1           4.9          3.0           1.4          0.2  Iris-setosa\n",
       "2           4.7          3.2           1.3          0.2  Iris-setosa\n",
       "3           4.6          3.1           1.5          0.2  Iris-setosa\n",
       "4           5.0          3.6           1.4          0.2  Iris-setosa"
      ]
     },
     "execution_count": 2,
     "metadata": {},
     "output_type": "execute_result"
    }
   ],
   "source": [
    "data = pd.read_csv('iris.csv')\n",
    "data.head()"
   ]
  },
  {
   "cell_type": "code",
   "execution_count": 3,
   "metadata": {},
   "outputs": [
    {
     "data": {
      "image/png": "[encoded data removed]",
      "text/plain": [
       "<Figure size 432x288 with 1 Axes>"
      ]
     },
     "metadata": {
      "needs_background": "light"
     },
     "output_type": "display_data"
    }
   ],
   "source": [
    "feature1 = 'petal_length'\n",
    "feature2 = 'petal_width'\n",
    "data = data[[feature1, feature2, 'class']]\n",
    "\n",
    "classes = ['Iris-setosa', 'Iris-versicolor', 'Iris-virginica']\n",
    "for cls in classes:\n",
    "    curr_data = data[data['class'] == cls]\n",
    "    plt.scatter(curr_data[feature1], curr_data[feature2], label=cls)\n",
    "plt.show()\n",
    "\n",
    "train_data = data.sample(frac=0.8)\n",
    "val_data = data.drop(train_data.index)"
   ]
  },
  {
   "cell_type": "code",
   "execution_count": 4,
   "metadata": {},
   "outputs": [
    {
     "data": {
      "image/png": "[encoded data removed]",
      "text/plain": [
       "<Figure size 432x288 with 1 Axes>"
      ]
     },
     "metadata": {
      "needs_background": "light"
     },
     "output_type": "display_data"
    }
   ],
   "source": [
    "def sigmoid(x):\n",
    "    return 1 / (1 + np.e ** -x)\n",
    "\n",
    "x = np.linspace(-10, 10, 100)\n",
    "y = sigmoid(x)\n",
    "\n",
    "plt.plot(x, y)\n",
    "plt.title('Sigmoid Function')\n",
    "plt.show()"
   ]
  },
  {
   "cell_type": "code",
   "execution_count": 10,
   "metadata": {},
   "outputs": [
    {
     "name": "stdout",
     "output_type": "stream",
     "text": [
      "Iris-setosa | iteration=20000 cost=0.00152\n",
      "Iris-setosa | iteration=40000 cost=0.00082\n",
      "Iris-setosa | iteration=60000 cost=0.00057\n",
      "Iris-setosa | iteration=80000 cost=0.00044\n",
      "Iris-setosa | iteration=100000 cost=0.00036\n",
      "Iris-versicolor | iteration=20000 cost=0.29384\n",
      "Iris-versicolor | iteration=40000 cost=0.29384\n",
      "Iris-versicolor | iteration=60000 cost=0.29384\n",
      "Iris-versicolor | iteration=80000 cost=0.29384\n",
      "Iris-versicolor | iteration=100000 cost=0.29384\n",
      "Iris-virginica | iteration=20000 cost=0.05108\n",
      "Iris-virginica | iteration=40000 cost=0.04424\n",
      "Iris-virginica | iteration=60000 cost=0.04149\n",
      "Iris-virginica | iteration=80000 cost=0.04002\n",
      "Iris-virginica | iteration=100000 cost=0.03913\n",
      "Train Accuracy=0.958\n",
      "Val Accuracy=0.967\n"
     ]
    }
   ],
   "source": [
    "X = np.array(train_data[[feature1, feature2]])\n",
    "m = len(X)\n",
    "X = np.c_[np.ones(m), X]\n",
    "Y = np.array(train_data['class'])\n",
    "num_iters = 100000\n",
    "lr = 0.001\n",
    "W = None\n",
    "\n",
    "for cls in classes:\n",
    "    w = np.random.rand(3)\n",
    "    y = np.array(Y == cls).astype(float)\n",
    "    for i in np.arange(num_iters):\n",
    "        diff = sigmoid(X @ w) - y\n",
    "        w[0] -= lr * np.sum(diff)\n",
    "        w[1] -= lr * np.sum(diff * X[:, 1])\n",
    "        w[2] -= lr * np.sum(diff * X[:, 2])\n",
    "        \n",
    "        if (i+1) % 20000 == 0:\n",
    "            r = sigmoid(X @ w)\n",
    "            cost = np.sum(-y * np.log(r) - (1-y) * np.log(1-r)) / 2 / m\n",
    "            print(f'{cls} | iteration={i+1} cost={cost:.5f}')\n",
    "    \n",
    "    W = w if W is None else np.vstack((W, w))\n",
    "\n",
    "\n",
    "def predict(X, W, Y):\n",
    "    preds = np.argmax(X @ W.T, axis=1)\n",
    "    correct = 0\n",
    "    total = len(preds)\n",
    "    for i, pred in enumerate(preds):\n",
    "        if pred == 0 and Y[i] == classes[0]:\n",
    "            correct +=1\n",
    "        elif pred == 1 and Y[i] == classes[1]:\n",
    "            correct +=1\n",
    "        elif pred == 2 and Y[i] == classes[2]:\n",
    "            correct += 1\n",
    "        else:\n",
    "            # incorrect\n",
    "            pass\n",
    "    return correct / total\n",
    "\n",
    "\n",
    "print(f'Train Accuracy={predict(X, W, Y):.3f}')\n",
    "val_X = np.array(val_data[[feature1, feature2]])\n",
    "val_X = np.c_[np.ones(len(val_X)), val_X]\n",
    "val_Y = np.array(val_data['class'])\n",
    "print(f'Val Accuracy={predict(val_X, W, val_Y):.3f}')"
   ]
  },
  {
   "cell_type": "code",
   "execution_count": 8,
   "metadata": {},
   "outputs": [
    {
     "data": {
      "image/png": "[encoded data removed]",
      "text/plain": [
       "<Figure size 432x288 with 1 Axes>"
      ]
     },
     "metadata": {
      "needs_background": "light"
     },
     "output_type": "display_data"
    }
   ],
   "source": [
    "samples = 150\n",
    "X = np.linspace(data['petal_length'].min(), data['petal_length'].max(), samples)\n",
    "Y = np.linspace(data['petal_width'].min(), data['petal_width'].max(), samples)\n",
    "Z_setosa = np.zeros((samples, samples))\n",
    "Z_versicolor = np.zeros((samples, samples))\n",
    "Z_virginica = np.zeros((samples, samples))\n",
    "for xi, x in enumerate(X):\n",
    "    for yi, y in enumerate(Y):\n",
    "        d = np.array([1, x, y])\n",
    "        pred = np.argmax(d @ W.T)\n",
    "        if pred == 0:\n",
    "            Z_setosa[xi][yi] = 1\n",
    "        elif pred == 1:\n",
    "            Z_versicolor[xi][yi] = 1\n",
    "        elif pred == 2:\n",
    "            Z_virginica[xi][yi] = 1\n",
    "\n",
    "for i, cls in enumerate(classes):\n",
    "    curr_data = data[data['class'] == cls]\n",
    "    # plot the samples for this class\n",
    "    plt.scatter(curr_data['petal_length'], curr_data['petal_width'], label=cls)\n",
    "plt.contour(X, Y, Z_setosa)\n",
    "plt.contour(X, Y, Z_versicolor)\n",
    "plt.contour(X, Y, Z_virginica)\n",
    "plt.show()"
   ]
  }
 ],
 "metadata": {
  "kernelspec": {
   "display_name": "Python 3",
   "language": "python",
   "name": "python3"
  },
  "language_info": {
   "codemirror_mode": {
    "name": "ipython",
    "version": 3
   },
   "file_extension": ".py",
   "mimetype": "text/x-python",
   "name": "python",
   "nbconvert_exporter": "python",
   "pygments_lexer": "ipython3",
   "version": "3.7.4"
  }
 },
 "nbformat": 4,
 "nbformat_minor": 4
}
